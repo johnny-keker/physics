{
 "cells": [
  {
   "cell_type": "markdown",
   "metadata": {},
   "source": [
    "# Some approximation features from computational math second lab\n",
    "\n",
    "We'll need'em here as well\n",
    "\n",
    "Check [it out](https://github.com/johnny-keker/computational-mathematics/tree/master/lab2)"
   ]
  },
  {
   "cell_type": "code",
   "execution_count": 10,
   "metadata": {},
   "outputs": [],
   "source": [
    "import math\n",
    "\n",
    "def linear(xs, k, b):\n",
    "    res = []\n",
    "    for x in xs:\n",
    "        res.append(k*x + b)\n",
    "    return res\n",
    "\n",
    "def sx(xs):\n",
    "    res = 0\n",
    "    for x in xs:\n",
    "        res += x\n",
    "    return res\n",
    "\n",
    "def sxx(xs):\n",
    "    res = 0\n",
    "    for x in xs:\n",
    "        res += x**2\n",
    "    return res\n",
    "\n",
    "def sxy(xs, ys):\n",
    "    res = 0\n",
    "    for i in range(len(xs)):\n",
    "        res += xs[i] * ys[i]\n",
    "    return res\n",
    "\n",
    "def sxxy(xs, ys):\n",
    "    res = 0\n",
    "    for i in range(len(xs)):\n",
    "        res += xs[i]**2 * ys[i]\n",
    "    return res\n",
    "\n",
    "def pow_n(xs, n):\n",
    "    res = 0\n",
    "    for x in xs:\n",
    "        res += x**n\n",
    "    return res\n",
    "\n",
    "def epsilon(ys1, ys2):\n",
    "    res = []\n",
    "    for i in range(len(ys1)):\n",
    "        res.append(ys1[i] - ys2[i])\n",
    "    return res\n",
    "\n",
    "def standard_deviation(eps):\n",
    "    return sxx(eps)\n",
    "\n",
    "def square_deviation(eps):\n",
    "    return math.sqrt(sxx(eps)/len(eps))\n",
    "\n",
    "def linear_approximation(xs, ys):\n",
    "    a = (sxy(xs, ys)*len(xs) - sx(xs)*sx(ys))/(sxx(xs)*len(xs) - sx(xs)**2)\n",
    "    b = (sxx(xs)*sx(ys) - sx(xs)*sxy(xs, ys))/(sxx(xs)*len(xs) - sx(xs)**2)\n",
    "    return [a, b]\n",
    "\n",
    "def square_approximation(xs, ys):\n",
    "    left = np.array([\n",
    "                     [len(xs), sx(xs), sxx(xs)],\n",
    "                     [sx(xs), sxx(xs), pow_n(xs, 3)],\n",
    "                     [sxx(xs), pow_n(xs, 3), pow_n(xs, 4)]\n",
    "                    ])\n",
    "    right = np.array([sx(ys), sxy(xs, ys), sxxy(xs, ys)])\n",
    "    return np.linalg.solve(left, right)"
   ]
  },
  {
   "cell_type": "markdown",
   "metadata": {},
   "source": [
    "# Labwork itself"
   ]
  },
  {
   "cell_type": "code",
   "execution_count": 14,
   "metadata": {},
   "outputs": [
    {
     "name": "stdout",
     "output_type": "stream",
     "text": [
      "phi(x) = -680.765x + 15.435\n"
     ]
    }
   ],
   "source": [
    "import numpy as np\n",
    "\n",
    "u1 = np.array([1.7, 3.2, 4.5, 5.6, 6.7, 7.4, 8.0, 8.5, 9.0, 9.5, 9.9, 10.18, 10.46, 10.7, 10.7])\n",
    "u2 = np.array([1.62, 3.34, 4.74, 5.67, 6.55, 7.41, 8.05, 8.6, 9.09, 9.51, 9.81, 10.16, 10.48, 10.7, 10.7])\n",
    "u_mean = [round((u1[i] + u2[i]) / 2, 5) for i in range(len(u1))]\n",
    "\n",
    "i1 = np.array([0.02, 0.018, 0.016, 0.014, 0.013, 0.012, 0.011, 0.01, 0.009, 0.0087, 0.0082, 0.0077, 0.0073, 0.007, 0.007])\n",
    "i2 = np.array([0.0204, 0.0179, 0.0158, 0.0144, 0.0131, 0.0118, 0.0109, 0.0101, 0.0094, 0.0087, 0.0083, 0.0077, 0.0073, 0.007, 0.007])\n",
    "i_mean = [round((i1[i] + i2[i]) / 2, 5) for i in range(len(i1))]\n",
    "\n",
    "\n",
    "linear_u_i = linear_approximation(i_mean, u_mean)\n",
    "ys_linear_u_i = linear(i_mean, linear_u_i[0], linear_u_i[1])\n",
    "print(f\"phi(x) = {round(linear_u_i[0], 3)}x + {round(linear_u_i[1], 3)}\")"
   ]
  }
 ],
 "metadata": {
  "kernelspec": {
   "display_name": "Python 3",
   "language": "python",
   "name": "python3"
  },
  "language_info": {
   "codemirror_mode": {
    "name": "ipython",
    "version": 3
   },
   "file_extension": ".py",
   "mimetype": "text/x-python",
   "name": "python",
   "nbconvert_exporter": "python",
   "pygments_lexer": "ipython3",
   "version": "3.6.7"
  }
 },
 "nbformat": 4,
 "nbformat_minor": 2
}
